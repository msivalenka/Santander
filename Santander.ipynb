{
 "cells": [
  {
   "cell_type": "code",
   "execution_count": 1,
   "metadata": {},
   "outputs": [],
   "source": [
    "import sklearn\n",
    "import numpy as np\n",
    "import pandas as pd\n",
    "import matplotlib.pyplot as plt\n",
    "%matplotlib inline\n",
    "import seaborn as sns\n",
    "from collections import Counter"
   ]
  },
  {
   "cell_type": "code",
   "execution_count": 3,
   "metadata": {},
   "outputs": [],
   "source": [
    "test = pd.read_csv(\"F:\\\\Imarticus-DSP\\\\Competitions\\\\Kaggle\\\\Santander Value Prediction\\\\test.csv\")\n",
    "train = pd.read_csv(\"F:\\\\Imarticus-DSP\\\\Competitions\\\\Kaggle\\\\Santander Value Prediction\\\\train.csv\")"
   ]
  },
  {
   "cell_type": "code",
   "execution_count": 4,
   "metadata": {},
   "outputs": [],
   "source": [
    "#remove the ID field from the train data\n",
    "train = train.drop('ID', axis = 1)\n",
    "test = test.drop('ID', axis=1)"
   ]
  },
  {
   "cell_type": "code",
   "execution_count": 5,
   "metadata": {},
   "outputs": [
    {
     "data": {
      "text/plain": [
       "Index(['target', '48df886f9', '0deb4b6a8', '34b15f335', 'a8cb14b00',\n",
       "       '2f0771a37', '30347e683', 'd08d1fbe3', '6ee66e115', '20aa07010',\n",
       "       ...\n",
       "       '3ecc09859', '9281abeea', '8675bec0b', '3a13ed79a', 'f677d4d13',\n",
       "       '71b203550', '137efaa80', 'fb36b89d9', '7e293fbaf', '9fc776466'],\n",
       "      dtype='object', length=4992)"
      ]
     },
     "execution_count": 5,
     "metadata": {},
     "output_type": "execute_result"
    }
   ],
   "source": [
    "#check columns of train data\n",
    "train.columns"
   ]
  },
  {
   "cell_type": "code",
   "execution_count": 6,
   "metadata": {},
   "outputs": [
    {
     "name": "stdout",
     "output_type": "stream",
     "text": [
      "<class 'pandas.core.frame.DataFrame'>\n",
      "RangeIndex: 4459 entries, 0 to 4458\n",
      "Columns: 4992 entries, target to 9fc776466\n",
      "dtypes: float64(1845), int64(3147)\n",
      "memory usage: 169.8 MB\n"
     ]
    }
   ],
   "source": [
    "train.info()"
   ]
  },
  {
   "cell_type": "code",
   "execution_count": 7,
   "metadata": {},
   "outputs": [
    {
     "data": {
      "text/plain": [
       "Series([], dtype: object)"
      ]
     },
     "execution_count": 7,
     "metadata": {},
     "output_type": "execute_result"
    }
   ],
   "source": [
    "#We have no categorical variables.\n",
    "train.select_dtypes(include=['object']).dtypes"
   ]
  },
  {
   "cell_type": "code",
   "execution_count": 8,
   "metadata": {},
   "outputs": [
    {
     "data": {
      "text/plain": [
       "(49342, 4991)"
      ]
     },
     "execution_count": 8,
     "metadata": {},
     "output_type": "execute_result"
    }
   ],
   "source": [
    "test.shape"
   ]
  },
  {
   "cell_type": "code",
   "execution_count": 9,
   "metadata": {},
   "outputs": [
    {
     "data": {
      "text/plain": [
       "(4459, 4992)"
      ]
     },
     "execution_count": 9,
     "metadata": {},
     "output_type": "execute_result"
    }
   ],
   "source": [
    "train.shape"
   ]
  },
  {
   "cell_type": "code",
   "execution_count": 10,
   "metadata": {},
   "outputs": [
    {
     "data": {
      "text/html": [
       "<div>\n",
       "<style>\n",
       "    .dataframe thead tr:only-child th {\n",
       "        text-align: right;\n",
       "    }\n",
       "\n",
       "    .dataframe thead th {\n",
       "        text-align: left;\n",
       "    }\n",
       "\n",
       "    .dataframe tbody tr th {\n",
       "        vertical-align: top;\n",
       "    }\n",
       "</style>\n",
       "<table border=\"1\" class=\"dataframe\">\n",
       "  <thead>\n",
       "    <tr style=\"text-align: right;\">\n",
       "      <th></th>\n",
       "      <th>target</th>\n",
       "      <th>48df886f9</th>\n",
       "      <th>0deb4b6a8</th>\n",
       "      <th>34b15f335</th>\n",
       "      <th>a8cb14b00</th>\n",
       "      <th>2f0771a37</th>\n",
       "      <th>30347e683</th>\n",
       "      <th>d08d1fbe3</th>\n",
       "      <th>6ee66e115</th>\n",
       "      <th>20aa07010</th>\n",
       "      <th>...</th>\n",
       "      <th>3ecc09859</th>\n",
       "      <th>9281abeea</th>\n",
       "      <th>8675bec0b</th>\n",
       "      <th>3a13ed79a</th>\n",
       "      <th>f677d4d13</th>\n",
       "      <th>71b203550</th>\n",
       "      <th>137efaa80</th>\n",
       "      <th>fb36b89d9</th>\n",
       "      <th>7e293fbaf</th>\n",
       "      <th>9fc776466</th>\n",
       "    </tr>\n",
       "  </thead>\n",
       "  <tbody>\n",
       "    <tr>\n",
       "      <th>0</th>\n",
       "      <td>38000000.0</td>\n",
       "      <td>0.0</td>\n",
       "      <td>0</td>\n",
       "      <td>0.0</td>\n",
       "      <td>0</td>\n",
       "      <td>0</td>\n",
       "      <td>0</td>\n",
       "      <td>0</td>\n",
       "      <td>0</td>\n",
       "      <td>0.0</td>\n",
       "      <td>...</td>\n",
       "      <td>0.0</td>\n",
       "      <td>0.0</td>\n",
       "      <td>0.0</td>\n",
       "      <td>0</td>\n",
       "      <td>0</td>\n",
       "      <td>0</td>\n",
       "      <td>0</td>\n",
       "      <td>0</td>\n",
       "      <td>0</td>\n",
       "      <td>0</td>\n",
       "    </tr>\n",
       "    <tr>\n",
       "      <th>1</th>\n",
       "      <td>600000.0</td>\n",
       "      <td>0.0</td>\n",
       "      <td>0</td>\n",
       "      <td>0.0</td>\n",
       "      <td>0</td>\n",
       "      <td>0</td>\n",
       "      <td>0</td>\n",
       "      <td>0</td>\n",
       "      <td>0</td>\n",
       "      <td>2200000.0</td>\n",
       "      <td>...</td>\n",
       "      <td>0.0</td>\n",
       "      <td>0.0</td>\n",
       "      <td>0.0</td>\n",
       "      <td>0</td>\n",
       "      <td>0</td>\n",
       "      <td>0</td>\n",
       "      <td>0</td>\n",
       "      <td>0</td>\n",
       "      <td>0</td>\n",
       "      <td>0</td>\n",
       "    </tr>\n",
       "    <tr>\n",
       "      <th>2</th>\n",
       "      <td>10000000.0</td>\n",
       "      <td>0.0</td>\n",
       "      <td>0</td>\n",
       "      <td>0.0</td>\n",
       "      <td>0</td>\n",
       "      <td>0</td>\n",
       "      <td>0</td>\n",
       "      <td>0</td>\n",
       "      <td>0</td>\n",
       "      <td>0.0</td>\n",
       "      <td>...</td>\n",
       "      <td>0.0</td>\n",
       "      <td>0.0</td>\n",
       "      <td>0.0</td>\n",
       "      <td>0</td>\n",
       "      <td>0</td>\n",
       "      <td>0</td>\n",
       "      <td>0</td>\n",
       "      <td>0</td>\n",
       "      <td>0</td>\n",
       "      <td>0</td>\n",
       "    </tr>\n",
       "    <tr>\n",
       "      <th>3</th>\n",
       "      <td>2000000.0</td>\n",
       "      <td>0.0</td>\n",
       "      <td>0</td>\n",
       "      <td>0.0</td>\n",
       "      <td>0</td>\n",
       "      <td>0</td>\n",
       "      <td>0</td>\n",
       "      <td>0</td>\n",
       "      <td>0</td>\n",
       "      <td>0.0</td>\n",
       "      <td>...</td>\n",
       "      <td>0.0</td>\n",
       "      <td>0.0</td>\n",
       "      <td>0.0</td>\n",
       "      <td>0</td>\n",
       "      <td>0</td>\n",
       "      <td>0</td>\n",
       "      <td>0</td>\n",
       "      <td>0</td>\n",
       "      <td>0</td>\n",
       "      <td>0</td>\n",
       "    </tr>\n",
       "    <tr>\n",
       "      <th>4</th>\n",
       "      <td>14400000.0</td>\n",
       "      <td>0.0</td>\n",
       "      <td>0</td>\n",
       "      <td>0.0</td>\n",
       "      <td>0</td>\n",
       "      <td>0</td>\n",
       "      <td>0</td>\n",
       "      <td>0</td>\n",
       "      <td>0</td>\n",
       "      <td>2000000.0</td>\n",
       "      <td>...</td>\n",
       "      <td>0.0</td>\n",
       "      <td>0.0</td>\n",
       "      <td>0.0</td>\n",
       "      <td>0</td>\n",
       "      <td>0</td>\n",
       "      <td>0</td>\n",
       "      <td>0</td>\n",
       "      <td>0</td>\n",
       "      <td>0</td>\n",
       "      <td>0</td>\n",
       "    </tr>\n",
       "    <tr>\n",
       "      <th>5</th>\n",
       "      <td>2800000.0</td>\n",
       "      <td>0.0</td>\n",
       "      <td>0</td>\n",
       "      <td>0.0</td>\n",
       "      <td>0</td>\n",
       "      <td>0</td>\n",
       "      <td>0</td>\n",
       "      <td>0</td>\n",
       "      <td>0</td>\n",
       "      <td>17020000.0</td>\n",
       "      <td>...</td>\n",
       "      <td>12000.0</td>\n",
       "      <td>5600000.0</td>\n",
       "      <td>20000000.0</td>\n",
       "      <td>0</td>\n",
       "      <td>0</td>\n",
       "      <td>0</td>\n",
       "      <td>0</td>\n",
       "      <td>0</td>\n",
       "      <td>0</td>\n",
       "      <td>11000</td>\n",
       "    </tr>\n",
       "    <tr>\n",
       "      <th>6</th>\n",
       "      <td>164000.0</td>\n",
       "      <td>0.0</td>\n",
       "      <td>0</td>\n",
       "      <td>0.0</td>\n",
       "      <td>0</td>\n",
       "      <td>0</td>\n",
       "      <td>0</td>\n",
       "      <td>0</td>\n",
       "      <td>0</td>\n",
       "      <td>0.0</td>\n",
       "      <td>...</td>\n",
       "      <td>0.0</td>\n",
       "      <td>0.0</td>\n",
       "      <td>0.0</td>\n",
       "      <td>0</td>\n",
       "      <td>0</td>\n",
       "      <td>0</td>\n",
       "      <td>40000</td>\n",
       "      <td>0</td>\n",
       "      <td>0</td>\n",
       "      <td>0</td>\n",
       "    </tr>\n",
       "    <tr>\n",
       "      <th>7</th>\n",
       "      <td>600000.0</td>\n",
       "      <td>0.0</td>\n",
       "      <td>0</td>\n",
       "      <td>0.0</td>\n",
       "      <td>0</td>\n",
       "      <td>0</td>\n",
       "      <td>0</td>\n",
       "      <td>0</td>\n",
       "      <td>0</td>\n",
       "      <td>0.0</td>\n",
       "      <td>...</td>\n",
       "      <td>0.0</td>\n",
       "      <td>0.0</td>\n",
       "      <td>0.0</td>\n",
       "      <td>0</td>\n",
       "      <td>0</td>\n",
       "      <td>0</td>\n",
       "      <td>0</td>\n",
       "      <td>0</td>\n",
       "      <td>0</td>\n",
       "      <td>0</td>\n",
       "    </tr>\n",
       "    <tr>\n",
       "      <th>8</th>\n",
       "      <td>979000.0</td>\n",
       "      <td>0.0</td>\n",
       "      <td>0</td>\n",
       "      <td>0.0</td>\n",
       "      <td>0</td>\n",
       "      <td>0</td>\n",
       "      <td>0</td>\n",
       "      <td>0</td>\n",
       "      <td>0</td>\n",
       "      <td>58000.0</td>\n",
       "      <td>...</td>\n",
       "      <td>0.0</td>\n",
       "      <td>0.0</td>\n",
       "      <td>4000000.0</td>\n",
       "      <td>0</td>\n",
       "      <td>0</td>\n",
       "      <td>0</td>\n",
       "      <td>0</td>\n",
       "      <td>0</td>\n",
       "      <td>0</td>\n",
       "      <td>0</td>\n",
       "    </tr>\n",
       "    <tr>\n",
       "      <th>9</th>\n",
       "      <td>460000.0</td>\n",
       "      <td>0.0</td>\n",
       "      <td>0</td>\n",
       "      <td>0.0</td>\n",
       "      <td>0</td>\n",
       "      <td>0</td>\n",
       "      <td>0</td>\n",
       "      <td>0</td>\n",
       "      <td>0</td>\n",
       "      <td>0.0</td>\n",
       "      <td>...</td>\n",
       "      <td>0.0</td>\n",
       "      <td>0.0</td>\n",
       "      <td>0.0</td>\n",
       "      <td>0</td>\n",
       "      <td>0</td>\n",
       "      <td>0</td>\n",
       "      <td>0</td>\n",
       "      <td>0</td>\n",
       "      <td>0</td>\n",
       "      <td>400000</td>\n",
       "    </tr>\n",
       "  </tbody>\n",
       "</table>\n",
       "<p>10 rows × 4992 columns</p>\n",
       "</div>"
      ],
      "text/plain": [
       "       target  48df886f9  0deb4b6a8  34b15f335  a8cb14b00  2f0771a37  \\\n",
       "0  38000000.0        0.0          0        0.0          0          0   \n",
       "1    600000.0        0.0          0        0.0          0          0   \n",
       "2  10000000.0        0.0          0        0.0          0          0   \n",
       "3   2000000.0        0.0          0        0.0          0          0   \n",
       "4  14400000.0        0.0          0        0.0          0          0   \n",
       "5   2800000.0        0.0          0        0.0          0          0   \n",
       "6    164000.0        0.0          0        0.0          0          0   \n",
       "7    600000.0        0.0          0        0.0          0          0   \n",
       "8    979000.0        0.0          0        0.0          0          0   \n",
       "9    460000.0        0.0          0        0.0          0          0   \n",
       "\n",
       "   30347e683  d08d1fbe3  6ee66e115   20aa07010    ...      3ecc09859  \\\n",
       "0          0          0          0         0.0    ...            0.0   \n",
       "1          0          0          0   2200000.0    ...            0.0   \n",
       "2          0          0          0         0.0    ...            0.0   \n",
       "3          0          0          0         0.0    ...            0.0   \n",
       "4          0          0          0   2000000.0    ...            0.0   \n",
       "5          0          0          0  17020000.0    ...        12000.0   \n",
       "6          0          0          0         0.0    ...            0.0   \n",
       "7          0          0          0         0.0    ...            0.0   \n",
       "8          0          0          0     58000.0    ...            0.0   \n",
       "9          0          0          0         0.0    ...            0.0   \n",
       "\n",
       "   9281abeea   8675bec0b  3a13ed79a  f677d4d13  71b203550  137efaa80  \\\n",
       "0        0.0         0.0          0          0          0          0   \n",
       "1        0.0         0.0          0          0          0          0   \n",
       "2        0.0         0.0          0          0          0          0   \n",
       "3        0.0         0.0          0          0          0          0   \n",
       "4        0.0         0.0          0          0          0          0   \n",
       "5  5600000.0  20000000.0          0          0          0          0   \n",
       "6        0.0         0.0          0          0          0      40000   \n",
       "7        0.0         0.0          0          0          0          0   \n",
       "8        0.0   4000000.0          0          0          0          0   \n",
       "9        0.0         0.0          0          0          0          0   \n",
       "\n",
       "   fb36b89d9  7e293fbaf  9fc776466  \n",
       "0          0          0          0  \n",
       "1          0          0          0  \n",
       "2          0          0          0  \n",
       "3          0          0          0  \n",
       "4          0          0          0  \n",
       "5          0          0      11000  \n",
       "6          0          0          0  \n",
       "7          0          0          0  \n",
       "8          0          0          0  \n",
       "9          0          0     400000  \n",
       "\n",
       "[10 rows x 4992 columns]"
      ]
     },
     "execution_count": 10,
     "metadata": {},
     "output_type": "execute_result"
    }
   ],
   "source": [
    "train.head(10)"
   ]
  },
  {
   "cell_type": "code",
   "execution_count": 11,
   "metadata": {},
   "outputs": [
    {
     "data": {
      "text/plain": [
       "False"
      ]
     },
     "execution_count": 11,
     "metadata": {},
     "output_type": "execute_result"
    }
   ],
   "source": [
    "train.isnull().sum().any()"
   ]
  },
  {
   "cell_type": "code",
   "execution_count": 12,
   "metadata": {},
   "outputs": [
    {
     "data": {
      "text/plain": [
       "False"
      ]
     },
     "execution_count": 12,
     "metadata": {},
     "output_type": "execute_result"
    }
   ],
   "source": [
    "test.isnull().sum().any()"
   ]
  },
  {
   "cell_type": "markdown",
   "metadata": {},
   "source": [
    "**Observations**\n",
    "\n",
    "Same number of columns between the test and train data (train has 1 extra \"target field\" column)\n",
    "Most importantly, the number of rows in the train data are MUCH lesser than the number of columns! We have around 3000 columns and around 4500 rows. Test data is better..\n",
    "Columns names do not make sense, so we will have to perform feature extraction for this data to make sense.\n",
    "No missing data in the train and test sets!"
   ]
  },
  {
   "cell_type": "markdown",
   "metadata": {},
   "source": [
    "**UNIVARIATE ANALYSIS OF THE TARGET FIELD** \n",
    "Let's pick the target field and try to analyse it."
   ]
  },
  {
   "cell_type": "code",
   "execution_count": 13,
   "metadata": {},
   "outputs": [
    {
     "data": {
      "text/plain": [
       "count    4.459000e+03\n",
       "mean     5.944923e+06\n",
       "std      8.234312e+06\n",
       "min      3.000000e+04\n",
       "25%      6.000000e+05\n",
       "50%      2.260000e+06\n",
       "75%      8.000000e+06\n",
       "max      4.000000e+07\n",
       "Name: target, dtype: float64"
      ]
     },
     "execution_count": 13,
     "metadata": {},
     "output_type": "execute_result"
    }
   ],
   "source": [
    "train['target'].describe()"
   ]
  },
  {
   "cell_type": "code",
   "execution_count": 14,
   "metadata": {},
   "outputs": [
    {
     "data": {
      "text/plain": [
       "<matplotlib.axes._subplots.AxesSubplot at 0x1cc956d1710>"
      ]
     },
     "execution_count": 14,
     "metadata": {},
     "output_type": "execute_result"
    },
    {
     "data": {
      "image/png": "[encoded data removed]",
      "text/plain": [
       "<matplotlib.figure.Figure at 0x1cc956d16a0>"
      ]
     },
     "metadata": {},
     "output_type": "display_data"
    }
   ],
   "source": [
    "#plot a distribution plot to see the distribution of the target field\n",
    "plt.figure(figsize=(8,5))\n",
    "sns.distplot(train['target'])"
   ]
  },
  {
   "cell_type": "markdown",
   "metadata": {},
   "source": [
    "This seems to be a highly skewed target variable. Let's take the log of it to check the distribution"
   ]
  },
  {
   "cell_type": "code",
   "execution_count": 15,
   "metadata": {},
   "outputs": [
    {
     "data": {
      "text/plain": [
       "<matplotlib.axes._subplots.AxesSubplot at 0x1cc956ec128>"
      ]
     },
     "execution_count": 15,
     "metadata": {},
     "output_type": "execute_result"
    },
    {
     "data": {
      "image/png": "[encoded data removed]",
      "text/plain": [
       "<matplotlib.figure.Figure at 0x1cc956d1da0>"
      ]
     },
     "metadata": {},
     "output_type": "display_data"
    }
   ],
   "source": [
    "plt.figure(figsize=(8,5))\n",
    "sns.distplot(np.log1p(train['target']), kde='False')"
   ]
  },
  {
   "cell_type": "markdown",
   "metadata": {},
   "source": [
    "Better distributed now! Let's check the train.info after taking the log"
   ]
  },
  {
   "cell_type": "code",
   "execution_count": 16,
   "metadata": {},
   "outputs": [
    {
     "data": {
      "text/plain": [
       "count    4459.000000\n",
       "mean       14.490239\n",
       "std         1.750947\n",
       "min        10.308986\n",
       "25%        13.304687\n",
       "50%        14.630876\n",
       "75%        15.894952\n",
       "max        17.504390\n",
       "Name: target, dtype: float64"
      ]
     },
     "execution_count": 16,
     "metadata": {},
     "output_type": "execute_result"
    }
   ],
   "source": [
    "np.log1p(train['target']).describe()"
   ]
  },
  {
   "cell_type": "markdown",
   "metadata": {},
   "source": [
    "This is a LOT better! Helps us better understand the distribution of the 'target' column. Lets plot some scatter plots with a few other variabls to see its spread. Let's pick the first column '48df886f9'"
   ]
  },
  {
   "cell_type": "code",
   "execution_count": 17,
   "metadata": {},
   "outputs": [
    {
     "name": "stderr",
     "output_type": "stream",
     "text": [
      "C:\\Users\\madhs\\Anaconda3\\lib\\site-packages\\ipykernel_launcher.py:2: RuntimeWarning: divide by zero encountered in log\n",
      "  \n"
     ]
    },
    {
     "data": {
      "text/plain": [
       "Text(0,0.5,'Target')"
      ]
     },
     "execution_count": 17,
     "metadata": {},
     "output_type": "execute_result"
    },
    {
     "data": {
      "image/png": "[encoded data removed]",
      "text/plain": [
       "<matplotlib.figure.Figure at 0x1cc933d12e8>"
      ]
     },
     "metadata": {},
     "output_type": "display_data"
    }
   ],
   "source": [
    "plt.figure(figsize=(5,5))\n",
    "plt.scatter(np.log(train['48df886f9']),np.log(train['target']))\n",
    "plt.xlabel('48df886f9')\n",
    "plt.ylabel('Target')"
   ]
  },
  {
   "cell_type": "markdown",
   "metadata": {},
   "source": [
    "Perform some basic checks on the target column."
   ]
  },
  {
   "cell_type": "code",
   "execution_count": 18,
   "metadata": {},
   "outputs": [
    {
     "data": {
      "text/plain": [
       "713     40000000.00\n",
       "1968    40000000.00\n",
       "3662    40000000.00\n",
       "730     40000000.00\n",
       "3591    40000000.00\n",
       "2619    40000000.00\n",
       "1891    40000000.00\n",
       "3467    40000000.00\n",
       "985     40000000.00\n",
       "4111    40000000.00\n",
       "2354    40000000.00\n",
       "173     40000000.00\n",
       "348     40000000.00\n",
       "2160    40000000.00\n",
       "4220    40000000.00\n",
       "2265    40000000.00\n",
       "2266    40000000.00\n",
       "2320    40000000.00\n",
       "2336    40000000.00\n",
       "3132    40000000.00\n",
       "2341    40000000.00\n",
       "3668    40000000.00\n",
       "3783    40000000.00\n",
       "2859    40000000.00\n",
       "4001    40000000.00\n",
       "2818    40000000.00\n",
       "1341    40000000.00\n",
       "1415    40000000.00\n",
       "4305    40000000.00\n",
       "1276    40000000.00\n",
       "           ...     \n",
       "649        32000.00\n",
       "1972       32000.00\n",
       "1237       32000.00\n",
       "3498       31333.34\n",
       "604        30000.00\n",
       "2546       30000.00\n",
       "1753       30000.00\n",
       "4270       30000.00\n",
       "3491       30000.00\n",
       "3698       30000.00\n",
       "1749       30000.00\n",
       "4269       30000.00\n",
       "1187       30000.00\n",
       "2027       30000.00\n",
       "3763       30000.00\n",
       "1060       30000.00\n",
       "3833       30000.00\n",
       "997        30000.00\n",
       "739        30000.00\n",
       "1562       30000.00\n",
       "2076       30000.00\n",
       "2125       30000.00\n",
       "3749       30000.00\n",
       "3505       30000.00\n",
       "386        30000.00\n",
       "2974       30000.00\n",
       "2828       30000.00\n",
       "3715       30000.00\n",
       "2749       30000.00\n",
       "2583       30000.00\n",
       "Name: target, Length: 4459, dtype: float64"
      ]
     },
     "execution_count": 18,
     "metadata": {},
     "output_type": "execute_result"
    }
   ],
   "source": [
    "train['target'].sort_values(ascending=False)"
   ]
  },
  {
   "cell_type": "markdown",
   "metadata": {},
   "source": [
    "We can see that \"target\" variable ranges from values of 10^5 to 10^9.\n",
    "Next Check the count of the most common target value"
   ]
  },
  {
   "cell_type": "code",
   "execution_count": 19,
   "metadata": {},
   "outputs": [
    {
     "data": {
      "text/plain": [
       "[(2000000.0, 207),\n",
       " (10000000.0, 199),\n",
       " (20000000.0, 156),\n",
       " (4000000.0, 148),\n",
       " (1000000.0, 129),\n",
       " (400000.0, 115),\n",
       " (200000.0, 113),\n",
       " (5000000.0, 101),\n",
       " (6000000.0, 88),\n",
       " (600000.0, 84),\n",
       " (8000000.0, 65),\n",
       " (3000000.0, 61),\n",
       " (800000.0, 59),\n",
       " (100000.0, 44),\n",
       " (40000.0, 40),\n",
       " (40000000.0, 40),\n",
       " (30000000.0, 39),\n",
       " (500000.0, 39),\n",
       " (1200000.0, 39),\n",
       " (300000.0, 37),\n",
       " (1600000.0, 33),\n",
       " (7000000.0, 31),\n",
       " (1400000.0, 31),\n",
       " (1500000.0, 30),\n",
       " (1800000.0, 28),\n",
       " (700000.0, 28),\n",
       " (30000.0, 26),\n",
       " (50000.0, 25),\n",
       " (60000.0, 24),\n",
       " (14000000.0, 21),\n",
       " (15000000.0, 21),\n",
       " (12000000.0, 20),\n",
       " (2500000.0, 20),\n",
       " (16000000.0, 19),\n",
       " (2400000.0, 18),\n",
       " (9000000.0, 17),\n",
       " (11000000.0, 16),\n",
       " (2200000.0, 15),\n",
       " (18000000.0, 14),\n",
       " (2800000.0, 13),\n",
       " (24000000.0, 13),\n",
       " (120000.0, 13),\n",
       " (25000000.0, 12),\n",
       " (150000.0, 12),\n",
       " (900000.0, 12),\n",
       " (1100000.0, 11),\n",
       " (3600000.0, 11),\n",
       " (160000.0, 11),\n",
       " (3500000.0, 11),\n",
       " (450000.0, 11),\n",
       " (36000000.0, 11),\n",
       " (3200000.0, 11),\n",
       " (80000.0, 11),\n",
       " (4500000.0, 10),\n",
       " (2600000.0, 10),\n",
       " (1900000.0, 10),\n",
       " (280000.0, 10),\n",
       " (4600000.0, 10),\n",
       " (250000.0, 10),\n",
       " (5600000.0, 10),\n",
       " (5400000.0, 9),\n",
       " (1300000.0, 9),\n",
       " (110000.0, 9),\n",
       " (350000.0, 8),\n",
       " (4100000.0, 8),\n",
       " (70000.0, 8),\n",
       " (22000000.0, 8),\n",
       " (260000.0, 8),\n",
       " (4800000.0, 8),\n",
       " (2900000.0, 7),\n",
       " (140000.0, 7),\n",
       " (2100000.0, 7),\n",
       " (4400000.0, 7),\n",
       " (4200000.0, 7),\n",
       " (1050000.0, 7),\n",
       " (36000.0, 7),\n",
       " (32000.0, 7),\n",
       " (220000.0, 7),\n",
       " (130000.0, 7),\n",
       " (42000.0, 7),\n",
       " (460000.0, 6),\n",
       " (28000000.0, 6),\n",
       " (180000.0, 6),\n",
       " (3400000.0, 6),\n",
       " (560000.0, 6),\n",
       " (320000.0, 6),\n",
       " (5100000.0, 6),\n",
       " (88000.0, 6),\n",
       " (1666666.6599999999, 6),\n",
       " (13000000.0, 6),\n",
       " (17000000.0, 6),\n",
       " (90000.0, 6),\n",
       " (820000.0, 6),\n",
       " (46000.0, 6),\n",
       " (7500000.0, 6),\n",
       " (68000.0, 6),\n",
       " (240000.0, 6),\n",
       " (102000.0, 5),\n",
       " (4666666.6600000001, 5),\n",
       " (26000000.0, 5),\n",
       " (32500000.0, 5),\n",
       " (56000.0, 5),\n",
       " (32000000.0, 5),\n",
       " (5200000.0, 5),\n",
       " (76000.0, 5),\n",
       " (5300000.0, 5),\n",
       " (550000.0, 5),\n",
       " (5800000.0, 5),\n",
       " (5500000.0, 5),\n",
       " (2700000.0, 5),\n",
       " (3900000.0, 5),\n",
       " (35000000.0, 5),\n",
       " (190000.0, 5),\n",
       " (44000.0, 5),\n",
       " (7200000.0, 5),\n",
       " (6500000.0, 4),\n",
       " (1700000.0, 4),\n",
       " (933333.33999999997, 4),\n",
       " (680000.0, 4),\n",
       " (34000.0, 4),\n",
       " (360000.0, 4),\n",
       " (48000.0, 4),\n",
       " (850000.0, 4),\n",
       " (9800000.0, 4),\n",
       " (23333333.34, 4),\n",
       " (950000.0, 4),\n",
       " (650000.0, 4),\n",
       " (510000.0, 4),\n",
       " (860000.0, 4),\n",
       " (105000.0, 4),\n",
       " (2300000.0, 4),\n",
       " (1060000.0, 4),\n",
       " (3100000.0, 4),\n",
       " (66000.0, 4),\n",
       " (170000.0, 4),\n",
       " (34000000.0, 4),\n",
       " (8500000.0, 4),\n",
       " (6050000.0, 4),\n",
       " (310000.0, 4),\n",
       " (6200000.0, 4),\n",
       " (770000.0, 4),\n",
       " (430000.0, 4),\n",
       " (3800000.0, 4),\n",
       " (3300000.0, 4),\n",
       " (38000000.0, 3),\n",
       " (13200000.0, 3),\n",
       " (52000.0, 3),\n",
       " (454000.0, 3),\n",
       " (11600000.0, 3),\n",
       " (8400000.0, 3),\n",
       " (13800000.0, 3),\n",
       " (390000.0, 3),\n",
       " (980000.0, 3),\n",
       " (370000.0, 3),\n",
       " (1933333.3400000001, 3),\n",
       " (780000.0, 3),\n",
       " (1233333.3400000001, 3),\n",
       " (58000.0, 3),\n",
       " (2520000.0, 3),\n",
       " (230000.0, 3),\n",
       " (185000.0, 3),\n",
       " (640000.0, 3),\n",
       " (2050000.0, 3),\n",
       " (1310000.0, 3),\n",
       " (156000.0, 3),\n",
       " (27500000.0, 3),\n",
       " (8750000.0, 3),\n",
       " (19200000.0, 3),\n",
       " (54000.0, 3),\n",
       " (2250000.0, 3),\n",
       " (8200000.0, 3),\n",
       " (1035000.0, 3),\n",
       " (530000.0, 3),\n",
       " (74000.0, 3),\n",
       " (1180000.0, 3),\n",
       " (35000.0, 3),\n",
       " (1850000.0, 3),\n",
       " (9100000.0, 3),\n",
       " (1530000.0, 3),\n",
       " (366000.0, 3),\n",
       " (7100000.0, 3),\n",
       " (970000.0, 3),\n",
       " (340000.0, 3),\n",
       " (22500000.0, 3),\n",
       " (248000.0, 3),\n",
       " (9400000.0, 3),\n",
       " (6800000.0, 3),\n",
       " (466666.65999999997, 3),\n",
       " (13333333.34, 3),\n",
       " (38000.0, 3),\n",
       " (490000.0, 3),\n",
       " (11500000.0, 3),\n",
       " (31000000.0, 3),\n",
       " (98000.0, 3),\n",
       " (75000.0, 3),\n",
       " (3850000.0, 3),\n",
       " (1866666.6599999999, 3),\n",
       " (11400000.0, 3),\n",
       " (14400000.0, 2),\n",
       " (164000.0, 2),\n",
       " (6400000.0, 2),\n",
       " (1650000.0, 2),\n",
       " (10050000.0, 2),\n",
       " (232000.0, 2),\n",
       " (620000.0, 2),\n",
       " (11333333.34, 2),\n",
       " (1160000.0, 2),\n",
       " (625000.0, 2),\n",
       " (7494000.0, 2),\n",
       " (410000.0, 2),\n",
       " (2840000.0, 2),\n",
       " (8666666.6600000001, 2),\n",
       " (104000.0, 2),\n",
       " (9300000.0, 2),\n",
       " (446000.0, 2),\n",
       " (1630000.0, 2),\n",
       " (1960000.0, 2),\n",
       " (108000.0, 2),\n",
       " (10440000.0, 2),\n",
       " (1408000.0, 2),\n",
       " (152000.0, 2),\n",
       " (12500000.0, 2),\n",
       " (2060000.0, 2),\n",
       " (26400000.0, 2),\n",
       " (1250000.0, 2),\n",
       " (62000.0, 2),\n",
       " (3450000.0, 2),\n",
       " (2660000.0, 2),\n",
       " (38571428.579999998, 2),\n",
       " (10700000.0, 2),\n",
       " (2850000.0, 2),\n",
       " (11200000.0, 2),\n",
       " (1733333.3400000001, 2),\n",
       " (142000.0, 2),\n",
       " (123000.0, 2),\n",
       " (290000.0, 2),\n",
       " (8300000.0, 2),\n",
       " (118666.66, 2),\n",
       " (1550000.0, 2),\n",
       " (738000.0, 2),\n",
       " (4760000.0, 2),\n",
       " (10500000.0, 2),\n",
       " (138000.0, 2),\n",
       " (344000.0, 2),\n",
       " (940000.0, 2),\n",
       " (1104000.0, 2),\n",
       " (1333333.3400000001, 2),\n",
       " (21000000.0, 2),\n",
       " (12600000.0, 2),\n",
       " (28300000.0, 2),\n",
       " (128000.0, 2),\n",
       " (840000.0, 2),\n",
       " (2590000.0, 2),\n",
       " (112000.0, 2),\n",
       " (566666.66000000003, 2),\n",
       " (1326666.6599999999, 2),\n",
       " (740000.0, 2),\n",
       " (330000.0, 2),\n",
       " (92000.0, 2),\n",
       " (1350000.0, 2),\n",
       " (534000.0, 2),\n",
       " (750000.0, 2),\n",
       " (97000.0, 2),\n",
       " (8600000.0, 2),\n",
       " (194000.0, 2),\n",
       " (21500000.0, 2),\n",
       " (144000.0, 2),\n",
       " (528666.66000000003, 2),\n",
       " (2640000.0, 2),\n",
       " (6300000.0, 2),\n",
       " (3633333.3399999999, 2),\n",
       " (3740000.0, 2),\n",
       " (5166666.6600000001, 2),\n",
       " (3620000.0, 2),\n",
       " (3270000.0, 2),\n",
       " (11800000.0, 2),\n",
       " (3333333.3399999999, 2),\n",
       " (178000.0, 2),\n",
       " (124000.0, 2),\n",
       " (184000.0, 2),\n",
       " (2210000.0, 2),\n",
       " (233333.34, 2),\n",
       " (375000.0, 2),\n",
       " (22800000.0, 2),\n",
       " (2040000.0, 2),\n",
       " (14666666.66, 2),\n",
       " (1240000.0, 2),\n",
       " (8266666.6600000001, 2),\n",
       " (17500000.0, 2),\n",
       " (580000.0, 2),\n",
       " (1860000.0, 2),\n",
       " (14500000.0, 2),\n",
       " (30666666.66, 2),\n",
       " (11666666.66, 2),\n",
       " (67500.0, 2),\n",
       " (302000.0, 2),\n",
       " (214000.0, 2),\n",
       " (10800000.0, 2),\n",
       " (1790000.0, 2),\n",
       " (875000.0, 2),\n",
       " (14200000.0, 2),\n",
       " (374000.0, 2),\n",
       " (132000.0, 2),\n",
       " (420000.0, 2),\n",
       " (106000.0, 2),\n",
       " (7333333.3399999999, 2),\n",
       " (3226000.0, 2),\n",
       " (15800000.0, 2),\n",
       " (8100000.0, 2),\n",
       " (520000.0, 2),\n",
       " (1320000.0, 2),\n",
       " (10900000.0, 2),\n",
       " (33000.0, 2),\n",
       " (440000.0, 2),\n",
       " (21700000.0, 2),\n",
       " (6333333.3399999999, 2),\n",
       " (4900000.0, 2),\n",
       " (1750000.0, 2),\n",
       " (1470000.0, 2),\n",
       " (480000.0, 2),\n",
       " (6700000.0, 2),\n",
       " (13400000.0, 2),\n",
       " (2350000.0, 2),\n",
       " (766000.0, 2),\n",
       " (570000.0, 2),\n",
       " (53000.0, 2),\n",
       " (5216000.0, 2),\n",
       " (428000.0, 2),\n",
       " (1133333.3400000001, 2),\n",
       " (5333333.3399999999, 2),\n",
       " (37142857.140000001, 2),\n",
       " (5950000.0, 2),\n",
       " (82000.0, 2),\n",
       " (552000.0, 2),\n",
       " (436000.0, 2),\n",
       " (5700000.0, 2),\n",
       " (26356000.0, 2),\n",
       " (1125000.0, 2),\n",
       " (37000000.0, 2),\n",
       " (1890000.0, 2),\n",
       " (7700000.0, 2),\n",
       " (760000.0, 2),\n",
       " (666666.66000000003, 2),\n",
       " (1359000.0, 2),\n",
       " (10300000.0, 2),\n",
       " (730000.0, 2),\n",
       " (3250000.0, 2),\n",
       " (979000.0, 1),\n",
       " (354000.0, 1),\n",
       " (2786000.0, 1),\n",
       " (3266666.6600000001, 1),\n",
       " (6140000.0, 1),\n",
       " (14886000.0, 1),\n",
       " (833333.33999999997, 1),\n",
       " (890000.0, 1),\n",
       " (34738000.0, 1),\n",
       " (2450000.0, 1),\n",
       " (19333333.34, 1),\n",
       " (8160000.0, 1),\n",
       " (101000.0, 1),\n",
       " (1068000.0, 1),\n",
       " (78000.0, 1),\n",
       " (2290000.0, 1),\n",
       " (3925333.3399999999, 1),\n",
       " (9592000.0, 1),\n",
       " (270000.0, 1),\n",
       " (6008000.0, 1),\n",
       " (2453200.0, 1),\n",
       " (185200.0, 1),\n",
       " (2580000.0, 1),\n",
       " (3095200.0, 1),\n",
       " (25150000.0, 1),\n",
       " (10814666.66, 1),\n",
       " (25020000.0, 1),\n",
       " (26428571.420000002, 1),\n",
       " (163000.0, 1),\n",
       " (3734230.7599999998, 1),\n",
       " (25100000.0, 1),\n",
       " (3936000.0, 1),\n",
       " (2610000.0, 1),\n",
       " (1704666.6599999999, 1),\n",
       " (11852000.0, 1),\n",
       " (103000.0, 1),\n",
       " (21333333.34, 1),\n",
       " (7913333.3399999999, 1),\n",
       " (11973333.34, 1),\n",
       " (1148000.0, 1),\n",
       " (11451000.0, 1),\n",
       " (1916000.0, 1),\n",
       " (1074000.0, 1),\n",
       " (4676000.0, 1),\n",
       " (5187333.3399999999, 1),\n",
       " (3286666.6600000001, 1),\n",
       " (2870000.0, 1),\n",
       " (1192000.0, 1),\n",
       " (406000.0, 1),\n",
       " (151750.0, 1),\n",
       " (14117000.0, 1),\n",
       " (1477600.0, 1),\n",
       " (16072000.0, 1),\n",
       " (1610000.0, 1),\n",
       " (7510000.0, 1),\n",
       " (872000.0, 1),\n",
       " (6717333.3399999999, 1),\n",
       " (2322000.0, 1),\n",
       " (1440000.0, 1),\n",
       " (1988666.6599999999, 1),\n",
       " (5660000.0, 1),\n",
       " (20750000.0, 1),\n",
       " (15200000.0, 1),\n",
       " (18062333.34, 1),\n",
       " (1130000.0, 1),\n",
       " (4700000.0, 1),\n",
       " (29370000.0, 1),\n",
       " (1943333.3400000001, 1),\n",
       " (10200000.0, 1),\n",
       " (22750000.0, 1),\n",
       " (15110000.0, 1),\n",
       " (12221000.0, 1),\n",
       " (4052000.0, 1),\n",
       " (262666.65999999997, 1),\n",
       " (27200000.0, 1),\n",
       " (3520000.0, 1),\n",
       " (1809333.3400000001, 1),\n",
       " (304000.0, 1),\n",
       " (3034400.0, 1),\n",
       " (39030000.0, 1),\n",
       " (2692000.0, 1),\n",
       " (8139000.0, 1),\n",
       " (5228000.0, 1),\n",
       " (57000.0, 1),\n",
       " (8018000.0, 1),\n",
       " (10849666.66, 1),\n",
       " (1202000.0, 1),\n",
       " (2384000.0, 1),\n",
       " (16991333.34, 1),\n",
       " (2352551.7200000002, 1),\n",
       " (4320000.0, 1),\n",
       " (3590000.0, 1),\n",
       " (22166666.66, 1),\n",
       " (686000.0, 1),\n",
       " (3938750.0, 1),\n",
       " (1460000.0, 1),\n",
       " (6208000.0, 1),\n",
       " (3342666.6600000001, 1),\n",
       " (1235000.0, 1),\n",
       " (2842000.0, 1),\n",
       " (80666.660000000003, 1),\n",
       " (4234800.0, 1),\n",
       " (6160000.0, 1),\n",
       " (7734285.7199999997, 1),\n",
       " (63333.339999999997, 1),\n",
       " (912000.0, 1),\n",
       " (1209090.8999999999, 1),\n",
       " (8550000.0, 1),\n",
       " (2352800.0, 1),\n",
       " (55000.0, 1),\n",
       " (33700000.0, 1),\n",
       " (2666666.6600000001, 1),\n",
       " (1070000.0, 1),\n",
       " (1258800.0, 1),\n",
       " (115000.0, 1),\n",
       " (1916666.6599999999, 1),\n",
       " (5233692.2999999998, 1),\n",
       " (6376000.0, 1),\n",
       " (1450000.0, 1),\n",
       " (12700000.0, 1),\n",
       " (11326666.66, 1),\n",
       " (7872000.0, 1),\n",
       " (12218000.0, 1),\n",
       " (3320000.0, 1),\n",
       " (72666.660000000003, 1),\n",
       " (4464000.0, 1),\n",
       " (1432000.0, 1),\n",
       " (3702000.0, 1),\n",
       " (11549000.0, 1),\n",
       " (2361200.0, 1),\n",
       " (4450000.0, 1),\n",
       " (3666666.6600000001, 1),\n",
       " (296444.44, 1),\n",
       " (113333.34, 1),\n",
       " (1190000.0, 1),\n",
       " (377000.0, 1),\n",
       " (4870000.0, 1),\n",
       " (174000.0, 1),\n",
       " (33333333.34, 1),\n",
       " (16370000.0, 1),\n",
       " (2690000.0, 1),\n",
       " (803000.0, 1),\n",
       " (6100000.0, 1),\n",
       " (3422222.2200000002, 1),\n",
       " (57333.339999999997, 1),\n",
       " (11366666.66, 1),\n",
       " (866000.0, 1),\n",
       " (12580000.0, 1),\n",
       " (3225000.0, 1),\n",
       " (8596000.0, 1),\n",
       " (23666666.66, 1),\n",
       " (3690666.6600000001, 1),\n",
       " (266666.65999999997, 1),\n",
       " (3043333.3399999999, 1),\n",
       " (3743666.6600000001, 1),\n",
       " (17997500.0, 1),\n",
       " (805333.33999999997, 1),\n",
       " (9301000.0, 1),\n",
       " (11115200.0, 1),\n",
       " (5035000.0, 1),\n",
       " (387500.0, 1),\n",
       " (1405000.0, 1),\n",
       " (7920000.0, 1),\n",
       " (380000.0, 1),\n",
       " (4740000.0, 1),\n",
       " (2576000.0, 1),\n",
       " (3952000.0, 1),\n",
       " (8257142.8600000003, 1),\n",
       " (10400000.0, 1),\n",
       " (75333.339999999997, 1),\n",
       " (416666.65999999997, 1),\n",
       " (7660000.0, 1),\n",
       " (359000.0, 1),\n",
       " (3364000.0, 1),\n",
       " (1583000.0, 1),\n",
       " (381600.0, 1),\n",
       " (2202000.0, 1),\n",
       " (1462400.0, 1),\n",
       " (18500000.0, 1),\n",
       " (19840000.0, 1),\n",
       " (166000.0, 1),\n",
       " (10450000.0, 1),\n",
       " (254000.0, 1),\n",
       " (16932000.0, 1),\n",
       " (10010000.0, 1),\n",
       " (3352000.0, 1),\n",
       " (1360000.0, 1),\n",
       " (2435000.0, 1),\n",
       " (956000.0, 1),\n",
       " (23985000.0, 1),\n",
       " (13100000.0, 1),\n",
       " (5225000.0, 1),\n",
       " (364000.0, 1),\n",
       " (1364000.0, 1),\n",
       " (11250000.0, 1),\n",
       " (1392666.6599999999, 1),\n",
       " (858000.0, 1),\n",
       " (18383714.280000001, 1),\n",
       " (307000.0, 1),\n",
       " (5866666.6600000001, 1),\n",
       " (2186000.0, 1),\n",
       " (1586888.8799999999, 1),\n",
       " (452000.0, 1),\n",
       " (2010000.0, 1),\n",
       " (2597000.0, 1),\n",
       " (1701000.0, 1),\n",
       " (35325000.0, 1),\n",
       " (4702666.6600000001, 1),\n",
       " (217666.66, 1),\n",
       " (100500.0, 1),\n",
       " (298000.0, 1),\n",
       " (9260000.0, 1),\n",
       " (1133000.0, 1),\n",
       " (9950000.0, 1),\n",
       " (7150000.0, 1),\n",
       " (3433333.3399999999, 1),\n",
       " (795000.0, 1),\n",
       " (21134000.0, 1),\n",
       " (28750000.0, 1),\n",
       " (863625.0, 1),\n",
       " (498000.0, 1),\n",
       " (1945000.0, 1),\n",
       " (1110333.3400000001, 1),\n",
       " (14044000.0, 1),\n",
       " (1636400.0, 1),\n",
       " (10333333.34, 1),\n",
       " (1304800.0, 1),\n",
       " (8786000.0, 1),\n",
       " (3411600.0, 1),\n",
       " (6762000.0, 1),\n",
       " (127142.86, 1),\n",
       " (1214000.0, 1),\n",
       " (16005333.34, 1),\n",
       " (1859333.3400000001, 1),\n",
       " (456000.0, 1),\n",
       " (3886333.3399999999, 1),\n",
       " (3730000.0, 1),\n",
       " (504000.0, 1),\n",
       " (4944285.7199999997, 1),\n",
       " (27777777.780000001, 1),\n",
       " (7182000.0, 1),\n",
       " (1188666.6599999999, 1),\n",
       " (1740000.0, 1),\n",
       " (8780000.0, 1),\n",
       " (91142.860000000001, 1),\n",
       " (216000.0, 1),\n",
       " (30100000.0, 1),\n",
       " (21463500.0, 1),\n",
       " (511000.0, 1),\n",
       " (5940000.0, 1),\n",
       " (37692307.700000003, 1),\n",
       " (3321333.3399999999, 1),\n",
       " (19000000.0, 1),\n",
       " (3172000.0, 1),\n",
       " (204666.66, 1),\n",
       " (32857142.859999999, 1),\n",
       " (372000.0, 1),\n",
       " (37134000.0, 1),\n",
       " (516000.0, 1),\n",
       " (4465000.0, 1),\n",
       " (3980000.0, 1),\n",
       " (2962000.0, 1),\n",
       " (13986000.0, 1),\n",
       " (12666666.66, 1),\n",
       " (468571.41999999998, 1),\n",
       " (1140000.0, 1),\n",
       " (1520000.0, 1),\n",
       " (205000.0, 1),\n",
       " (127666.66, 1),\n",
       " (15400000.0, 1),\n",
       " (1340000.0, 1),\n",
       " (556000.0, 1),\n",
       " (16818666.66, 1),\n",
       " (2906857.1400000001, 1),\n",
       " (206000.0, 1),\n",
       " (2285714.2799999998, 1),\n",
       " (8978615.3800000008, 1),\n",
       " (365000.0, 1),\n",
       " (15202857.140000001, 1),\n",
       " (3560000.0, 1),\n",
       " (596000.0, 1),\n",
       " (4799600.0, 1),\n",
       " (5555555.5599999996, 1),\n",
       " (10484333.34, 1),\n",
       " (3933333.3399999999, 1),\n",
       " (16500000.0, 1),\n",
       " (3696000.0, 1),\n",
       " (7495000.0, 1),\n",
       " (1411428.5800000001, 1),\n",
       " (15034000.0, 1),\n",
       " (31428571.420000002, 1),\n",
       " (2460000.0, 1),\n",
       " (7020000.0, 1),\n",
       " (21118400.0, 1),\n",
       " (13725000.0, 1),\n",
       " (1878571.4199999999, 1),\n",
       " (1166666.6599999999, 1),\n",
       " (176000.0, 1),\n",
       " (966000.0, 1),\n",
       " (3125000.0, 1),\n",
       " (1260000.0, 1),\n",
       " (4866666.6600000001, 1),\n",
       " (1266666.6599999999, 1),\n",
       " (30400000.0, 1),\n",
       " (282333.34000000003, 1),\n",
       " (16666666.66, 1),\n",
       " (1134000.0, 1),\n",
       " (2027333.3400000001, 1),\n",
       " (2550000.0, 1),\n",
       " (9706000.0, 1),\n",
       " (6912800.0, 1),\n",
       " (5124000.0, 1),\n",
       " (12432000.0, 1),\n",
       " (4640000.0, 1),\n",
       " (1013333.34, 1),\n",
       " (20333333.34, 1),\n",
       " (4080000.0, 1),\n",
       " (447000.0, 1),\n",
       " (212000.0, 1),\n",
       " (64000.0, 1),\n",
       " (5749333.3399999999, 1),\n",
       " (86666.660000000003, 1),\n",
       " (10667200.0, 1),\n",
       " (3252500.0, 1),\n",
       " (4433333.3399999999, 1),\n",
       " (306000.0, 1),\n",
       " (10666666.66, 1),\n",
       " (1132000.0, 1),\n",
       " (12066666.66, 1),\n",
       " (33333.339999999997, 1),\n",
       " (3665000.0, 1),\n",
       " (12322857.140000001, 1),\n",
       " (21143000.0, 1),\n",
       " (465000.0, 1),\n",
       " (646000.0, 1),\n",
       " (14070000.0, 1),\n",
       " (586666.66000000003, 1),\n",
       " (24600000.0, 1),\n",
       " (13700000.0, 1),\n",
       " (17375000.0, 1),\n",
       " (371333.34000000003, 1),\n",
       " (1879000.0, 1),\n",
       " (8567333.3399999999, 1),\n",
       " (13162000.0, 1),\n",
       " (448666.65999999997, 1),\n",
       " (48333.339999999997, 1),\n",
       " (27140000.0, 1),\n",
       " (5243333.3399999999, 1),\n",
       " (558000.0, 1),\n",
       " (356000.0, 1),\n",
       " (6125000.0, 1),\n",
       " (7260000.0, 1),\n",
       " (30800000.0, 1),\n",
       " (9666666.6600000001, 1),\n",
       " (2140000.0, 1),\n",
       " (1166000.0, 1),\n",
       " (10710000.0, 1),\n",
       " (1838333.3400000001, 1),\n",
       " (5361000.0, 1),\n",
       " (803333.33999999997, 1),\n",
       " (2994000.0, 1),\n",
       " (1554666.6599999999, 1),\n",
       " (2575000.0, 1),\n",
       " (1822000.0, 1),\n",
       " (43333.339999999997, 1),\n",
       " (8980000.0, 1),\n",
       " (2022500.0, 1),\n",
       " (5150000.0, 1),\n",
       " (1092500.0, 1),\n",
       " (35050000.0, 1),\n",
       " (922000.0, 1),\n",
       " (1167333.3400000001, 1),\n",
       " (19552000.0, 1),\n",
       " (13598000.0, 1),\n",
       " (3442000.0, 1),\n",
       " (7800000.0, 1),\n",
       " (735000.0, 1),\n",
       " (85500.0, 1),\n",
       " (385500.0, 1),\n",
       " (1394000.0, 1),\n",
       " (13263000.0, 1),\n",
       " (318000.0, 1),\n",
       " (8800000.0, 1),\n",
       " (3150000.0, 1),\n",
       " (8470000.0, 1),\n",
       " (89000.0, 1),\n",
       " (12400000.0, 1),\n",
       " (21100000.0, 1),\n",
       " (67000.0, 1),\n",
       " (294000.0, 1),\n",
       " (11550000.0, 1),\n",
       " (3080000.0, 1),\n",
       " (695333.33999999997, 1),\n",
       " (16506000.0, 1),\n",
       " (13736666.66, 1),\n",
       " (8680000.0, 1),\n",
       " (3812000.0, 1),\n",
       " (707000.0, 1),\n",
       " (13900000.0, 1),\n",
       " (3824666.6600000001, 1),\n",
       " (2026000.0, 1),\n",
       " (228571.42000000001, 1),\n",
       " (2968000.0, 1),\n",
       " (5828500.0, 1),\n",
       " (1887000.0, 1),\n",
       " (7954000.0, 1),\n",
       " (37662000.0, 1),\n",
       " (3742000.0, 1),\n",
       " (10933333.34, 1),\n",
       " (2116666.6600000001, 1),\n",
       " (10205333.34, 1),\n",
       " (16200000.0, 1),\n",
       " (409200.0, 1),\n",
       " (175000.0, 1),\n",
       " (17416000.0, 1),\n",
       " (2090000.0, 1),\n",
       " (13866666.66, 1),\n",
       " (31257000.0, 1),\n",
       " (982000.0, 1),\n",
       " (3147200.0, 1),\n",
       " (2120000.0, 1),\n",
       " (1521666.6599999999, 1),\n",
       " (37000.0, 1),\n",
       " (20160000.0, 1),\n",
       " (371000.0, 1),\n",
       " (3193600.0, 1),\n",
       " (265000.0, 1),\n",
       " (10600000.0, 1),\n",
       " (115636.36, 1),\n",
       " (27300000.0, 1),\n",
       " (92500.0, 1),\n",
       " (48666.660000000003, 1),\n",
       " (82666.660000000003, 1),\n",
       " (2110000.0, 1),\n",
       " (1174000.0, 1),\n",
       " (1101157.8999999999, 1),\n",
       " (5862000.0, 1),\n",
       " (8260400.0, 1),\n",
       " (19100000.0, 1),\n",
       " (1150000.0, 1),\n",
       " (3785000.0, 1),\n",
       " (187000.0, 1),\n",
       " (26860000.0, 1),\n",
       " (1223000.0, 1),\n",
       " (2133333.3399999999, 1),\n",
       " (10879000.0, 1),\n",
       " (9040000.0, 1),\n",
       " (3736666.6600000001, 1),\n",
       " (790000.0, 1),\n",
       " (1451428.5800000001, 1),\n",
       " (8034000.0, 1),\n",
       " (744000.0, 1),\n",
       " (1427333.3400000001, 1),\n",
       " (6678000.0, 1),\n",
       " (14766000.0, 1),\n",
       " (1730000.0, 1),\n",
       " (13600000.0, 1),\n",
       " (236666.66, 1),\n",
       " (4752000.0, 1),\n",
       " (3358333.3399999999, 1),\n",
       " (280222.21999999997, 1),\n",
       " (20666666.66, 1),\n",
       " (22200000.0, 1),\n",
       " (204000.0, 1),\n",
       " (598000.0, 1),\n",
       " (1040000.0, 1),\n",
       " (2286500.0, 1),\n",
       " (1736000.0, 1),\n",
       " (362000.0, 1),\n",
       " (2318285.7200000002, 1),\n",
       " (19629142.859999999, 1),\n",
       " (2436000.0, 1),\n",
       " (2038000.0, 1),\n",
       " (5507500.0, 1),\n",
       " (777750.0, 1),\n",
       " (14750000.0, 1),\n",
       " (1668000.0, 1),\n",
       " (4098000.0, 1),\n",
       " (3094000.0, 1),\n",
       " (206666.66, 1),\n",
       " (30190000.0, 1),\n",
       " (12797000.0, 1),\n",
       " (137000.0, 1),\n",
       " (65000.0, 1),\n",
       " (3660000.0, 1),\n",
       " (3350000.0, 1),\n",
       " (325000.0, 1),\n",
       " (10340000.0, 1),\n",
       " (5933333.3399999999, 1),\n",
       " (315333.34000000003, 1),\n",
       " (11215000.0, 1),\n",
       " (2066666.6599999999, 1),\n",
       " (195000.0, 1),\n",
       " (5346500.0, 1),\n",
       " (575000.0, 1),\n",
       " (308000.0, 1),\n",
       " (1525000.0, 1),\n",
       " (6048800.0, 1),\n",
       " (7036000.0, 1),\n",
       " (2831000.0, 1),\n",
       " (1973000.0, 1),\n",
       " (143333.34, 1),\n",
       " (472000.0, 1),\n",
       " (518000.0, 1),\n",
       " (149000.0, 1),\n",
       " (18462000.0, 1),\n",
       " (5900000.0, 1),\n",
       " (633333.33999999997, 1),\n",
       " (2466666.6600000001, 1),\n",
       " (7146000.0, 1),\n",
       " (2267500.0, 1),\n",
       " (3513333.3399999999, 1),\n",
       " (16469000.0, 1),\n",
       " (4333333.3399999999, 1),\n",
       " (3191666.6600000001, 1),\n",
       " (2760000.0, 1),\n",
       " (5223600.0, 1),\n",
       " (27498285.719999999, 1),\n",
       " (1642000.0, 1),\n",
       " (971428.57999999996, 1),\n",
       " (5126666.6600000001, 1),\n",
       " (546666.66000000003, 1),\n",
       " (37333.339999999997, 1),\n",
       " (28800000.0, 1),\n",
       " (134000.0, 1),\n",
       " (17920000.0, 1),\n",
       " (2524833.3399999999, 1),\n",
       " (2429000.0, 1),\n",
       " (2680000.0, 1),\n",
       " (33351333.34, 1),\n",
       " (18040000.0, 1),\n",
       " (145000.0, 1),\n",
       " (35203333.340000004, 1),\n",
       " (2546666.6600000001, 1),\n",
       " (1545200.0, 1),\n",
       " (26300000.0, 1),\n",
       " (4480000.0, 1),\n",
       " (36986000.0, 1),\n",
       " (14145000.0, 1),\n",
       " (1612000.0, 1),\n",
       " (9046666.6600000001, 1),\n",
       " (7765000.0, 1),\n",
       " (3414000.0, 1),\n",
       " (2253333.3399999999, 1),\n",
       " (42857.139999999999, 1),\n",
       " (726000.0, 1),\n",
       " (1175000.0, 1),\n",
       " (8333333.3399999999, 1),\n",
       " (920000.0, 1),\n",
       " (3010500.0, 1),\n",
       " (3420000.0, 1),\n",
       " (1056769.24, 1),\n",
       " (6256666.6600000001, 1),\n",
       " (18002000.0, 1),\n",
       " (26600000.0, 1),\n",
       " (12176000.0, 1),\n",
       " (29860000.0, 1),\n",
       " (114000.0, 1),\n",
       " (10360500.0, 1),\n",
       " (85000.0, 1),\n",
       " (29000000.0, 1),\n",
       " (113000.0, 1),\n",
       " (1012500.0, 1),\n",
       " (4133333.3399999999, 1),\n",
       " (2766000.0, 1),\n",
       " (21040000.0, 1),\n",
       " (3362000.0, 1),\n",
       " (12550000.0, 1),\n",
       " (2061333.3400000001, 1),\n",
       " (3815000.0, 1),\n",
       " (5090000.0, 1),\n",
       " (3728000.0, 1),\n",
       " (793333.33999999997, 1),\n",
       " (227500.0, 1),\n",
       " (253333.34, 1),\n",
       " (1109714.28, 1),\n",
       " (26250000.0, 1),\n",
       " (6892800.0, 1),\n",
       " (467333.34000000003, 1),\n",
       " (13270000.0, 1),\n",
       " (11030000.0, 1),\n",
       " (171000.0, 1),\n",
       " (18360000.0, 1),\n",
       " (684000.0, 1),\n",
       " (153142.85999999999, 1),\n",
       " (338000.0, 1),\n",
       " (2080000.0, 1),\n",
       " (2586000.0, 1),\n",
       " (2001000.0, 1),\n",
       " (346666.65999999997, 1),\n",
       " (12714285.720000001, 1),\n",
       " (5450500.0, 1),\n",
       " (7600000.0, 1),\n",
       " (3550000.0, 1),\n",
       " (1496000.0, 1),\n",
       " (27142857.140000001, 1),\n",
       " (20406000.0, 1),\n",
       " (1462000.0, 1),\n",
       " (3760000.0, 1),\n",
       " (14825000.0, 1),\n",
       " (4466666.6600000001, 1),\n",
       " (7408000.0, 1),\n",
       " (4050000.0, 1),\n",
       " (12350000.0, 1),\n",
       " (3090000.0, 1),\n",
       " (6090000.0, 1),\n",
       " (9444000.0, 1),\n",
       " (2046333.3400000001, 1),\n",
       " (5198000.0, 1),\n",
       " (2830000.0, 1),\n",
       " (2421000.0, 1),\n",
       " (492000.0, 1),\n",
       " (5833600.0, 1),\n",
       " (1589000.0, 1),\n",
       " (2275000.0, 1),\n",
       " (1484000.0, 1),\n",
       " (2023333.3400000001, 1),\n",
       " (8023600.0, 1),\n",
       " (11515142.859999999, 1),\n",
       " (7740000.0, 1),\n",
       " (9554000.0, 1),\n",
       " (1816666.6599999999, 1),\n",
       " (36106000.0, 1),\n",
       " (9026666.6600000001, 1),\n",
       " (3311000.0, 1),\n",
       " (12240000.0, 1),\n",
       " (3514000.0, 1),\n",
       " (3192727.2799999998, 1),\n",
       " (4165000.0, 1),\n",
       " (8057500.0, 1),\n",
       " (90500.0, 1),\n",
       " (3970000.0, 1),\n",
       " (2913333.3399999999, 1),\n",
       " (98666.660000000003, 1),\n",
       " (10909000.0, 1),\n",
       " (3573333.3399999999, 1),\n",
       " (155000.0, 1),\n",
       " (6900000.0, 1),\n",
       " (129333.34, 1),\n",
       " (16564400.0, 1),\n",
       " (1810800.0, 1),\n",
       " (966666.66000000003, 1),\n",
       " (1001125.0, 1),\n",
       " (15500000.0, 1),\n",
       " (25714285.719999999, 1),\n",
       " (16700000.0, 1),\n",
       " (5658333.3399999999, 1),\n",
       " (21666666.66, 1),\n",
       " (2779666.6600000001, 1),\n",
       " (2413428.5800000001, 1),\n",
       " (2052000.0, 1),\n",
       " (2280000.0, 1),\n",
       " (3464000.0, 1),\n",
       " ...]"
      ]
     },
     "execution_count": 19,
     "metadata": {},
     "output_type": "execute_result"
    }
   ],
   "source": [
    "Counter(train['target']).most_common()"
   ]
  },
  {
   "cell_type": "code",
   "execution_count": 20,
   "metadata": {},
   "outputs": [
    {
     "data": {
      "text/plain": [
       "<matplotlib.axes._subplots.AxesSubplot at 0x1cc9231b7f0>"
      ]
     },
     "execution_count": 20,
     "metadata": {},
     "output_type": "execute_result"
    },
    {
     "data": {
      "image/png": "[encoded data removed]",
      "text/plain": [
       "<matplotlib.figure.Figure at 0x1cc9231b4a8>"
      ]
     },
     "metadata": {},
     "output_type": "display_data"
    }
   ],
   "source": [
    "#Plot a boxplot\n",
    "plt.figure(figsize=(8,8))\n",
    "sns.boxplot(train['target'], orient='v')"
   ]
  },
  {
   "cell_type": "code",
   "execution_count": 22,
   "metadata": {},
   "outputs": [],
   "source": [
    "#separate the x and y variables for the train and test data\n",
    "#taking the log of the target variable as it is not well distributed.\n",
    "x_train = train.iloc[:,train.columns!='target']\n",
    "y_train = np.log1p(train.iloc[:,train.columns=='target'])\n",
    "x_test = test"
   ]
  },
  {
   "cell_type": "code",
   "execution_count": 23,
   "metadata": {},
   "outputs": [],
   "source": [
    "#copy the x_train, y_train, and x_test datasets\n",
    "x_train_copy= x_train.copy()\n",
    "x_test_copy= x_test.copy()\n",
    "y_train_copy= y_train.copy()"
   ]
  },
  {
   "cell_type": "code",
   "execution_count": 24,
   "metadata": {},
   "outputs": [
    {
     "data": {
      "text/plain": [
       "Index(['48df886f9', '0deb4b6a8', '34b15f335', 'a8cb14b00', '2f0771a37',\n",
       "       '30347e683', 'd08d1fbe3', '6ee66e115', '20aa07010', 'dc5a8f1d8',\n",
       "       ...\n",
       "       '3ecc09859', '9281abeea', '8675bec0b', '3a13ed79a', 'f677d4d13',\n",
       "       '71b203550', '137efaa80', 'fb36b89d9', '7e293fbaf', '9fc776466'],\n",
       "      dtype='object', length=4991)"
      ]
     },
     "execution_count": 24,
     "metadata": {},
     "output_type": "execute_result"
    }
   ],
   "source": [
    "x_train.columns"
   ]
  },
  {
   "cell_type": "code",
   "execution_count": 25,
   "metadata": {},
   "outputs": [
    {
     "name": "stdout",
     "output_type": "stream",
     "text": [
      "      target\n",
      "0  17.453097\n",
      "1  13.304687\n",
      "2  16.118096\n",
      "3  14.508658\n",
      "4  16.482739\n",
      "5  14.845130\n",
      "6  12.007628\n",
      "7  13.304687\n",
      "8  13.794288\n",
      "9  13.038984\n"
     ]
    }
   ],
   "source": [
    "print(y_train.head(10))"
   ]
  },
  {
   "cell_type": "code",
   "execution_count": 26,
   "metadata": {},
   "outputs": [
    {
     "name": "stdout",
     "output_type": "stream",
     "text": [
      "(4459, 4991)\n"
     ]
    }
   ],
   "source": [
    "print(x_train.shape)"
   ]
  },
  {
   "cell_type": "code",
   "execution_count": 27,
   "metadata": {},
   "outputs": [
    {
     "name": "stdout",
     "output_type": "stream",
     "text": [
      "(4459, 1)\n"
     ]
    }
   ],
   "source": [
    "print(y_train.shape)"
   ]
  },
  {
   "cell_type": "code",
   "execution_count": 28,
   "metadata": {},
   "outputs": [
    {
     "data": {
      "text/plain": [
       "(49342, 4991)"
      ]
     },
     "execution_count": 28,
     "metadata": {},
     "output_type": "execute_result"
    }
   ],
   "source": [
    "x_test.shape"
   ]
  },
  {
   "cell_type": "code",
   "execution_count": 29,
   "metadata": {},
   "outputs": [
    {
     "data": {
      "text/plain": [
       "Index(['target', '48df886f9', '0deb4b6a8', '34b15f335', 'a8cb14b00',\n",
       "       '2f0771a37', '30347e683', 'd08d1fbe3', '6ee66e115', '20aa07010',\n",
       "       ...\n",
       "       '3ecc09859', '9281abeea', '8675bec0b', '3a13ed79a', 'f677d4d13',\n",
       "       '71b203550', '137efaa80', 'fb36b89d9', '7e293fbaf', '9fc776466'],\n",
       "      dtype='object', length=4992)"
      ]
     },
     "execution_count": 29,
     "metadata": {},
     "output_type": "execute_result"
    }
   ],
   "source": [
    "train.columns"
   ]
  },
  {
   "cell_type": "markdown",
   "metadata": {},
   "source": [
    "**Remove the columns with standard deviation = 0 from test and train set.**\n",
    "\n",
    "Standard Deviation = 0 means that **every data point in a column is equal to its mean**. Also means that all of a column's values are **identical**.\n",
    "Such columns really do not help us in prediction. So we will drop them"
   ]
  },
  {
   "cell_type": "code",
   "execution_count": 30,
   "metadata": {},
   "outputs": [
    {
     "name": "stdout",
     "output_type": "stream",
     "text": [
      "Number of constant columns to be dropped:  256\n",
      "['d5308d8bc', 'c330f1a67', 'eeac16933', '7df8788e8', '5b91580ee', '6f29fbbc7', '46dafc868', 'ae41a98b6', 'f416800e9', '6d07828ca', '7ac332a1d', '70ee7950a', '833b35a7c', '2f9969eab', '8b1372217', '68322788b', '2288ac1a6', 'dc7f76962', '467044c26', '39ebfbfd9', '9a5ff8c23', 'f6fac27c8', '664e2800e', 'ae28689a2', 'd87dcac58', '4065efbb6', 'f944d9d43', 'c2c4491d5', 'a4346e2e2', '1af366d4f', 'cfff5b7c8', 'da215e99e', '5acd26139', '9be9c6cef', '1210d0271', '21b0a54cb', 'da35e792b', '754c502dd', '0b346adbd', '0f196b049', 'b603ed95d', '2a50e001c', '1e81432e7', '10350ea43', '3c7c7e24c', '7585fce2a', '64d036163', 'f25d9935c', 'd98484125', '95c85e227', '9a5273600', '746cdb817', '6377a6293', '7d944fb0c', '87eb21c50', '5ea313a8c', '0987a65a1', '2fb7c2443', 'f5dde409b', '1ae50d4c3', '2b21cd7d8', '0db8a9272', '804d8b55b', '76f135fa6', '7d7182143', 'f88e61ae6', '378ed28e0', 'ca4ba131e', '1352ddae5', '2b601ad67', '6e42ff7c7', '22196a84c', '0e410eb3d', '992e6d1d3', '90a742107', '08b9ec4ae', 'd95203ded', '58ad51def', '9f69ae59f', '863de8a31', 'be10df47c', 'f006d9618', 'a7e39d23d', '5ed0abe85', '6c578fe94', '7fa4fcee9', '5e0571f07', 'fd5659511', 'e06b9f40f', 'c506599c8', '99de8c2dc', 'b05f4b229', '5e0834175', 'eb1cc0d9c', 'b281a62b9', '00fcf67e4', 'e37b65992', '2308e2b29', 'c342e8709', '708471ebf', 'f614aac15', '15ecf7b68', '3bfe540f1', '7a0d98f3c', 'e642315a5', 'c16d456a7', '0c9b5bcfa', 'b778ab129', '2ace87cdd', '697a566f0', '97b1f84fc', '34eff114b', '5281333d7', 'c89f3ba7e', 'cd6d3c7e6', 'fc7c8f2e8', 'abbbf9f82', '24a233e8f', '8e26b560e', 'a28ac1049', '504502ce1', 'd9a8615f3', '4efd6d283', '34cc56e83', '93e98252a', '2b6cef19e', 'c7f70a49b', '0d29ab7eb', 'e4a0d39b7', 'a4d1a8409', 'bc694fc8f', '3a36fc3a2', '4ffba44d3', '9bfdec4bc', '66a866d2f', 'f941e9df7', 'e7af4dbf3', 'dc9a54a3e', '748168a04', 'bba8ce4bb', 'ff6f62aa4', 'b06fe66ba', 'ae87ebc42', 'f26589e57', '963bb53b1', 'a531a4bf0', '9fc79985d', '9350d55c1', 'de06e884c', 'fc10bdf18', 'e0907e883', 'c586d79a1', 'e15e1513d', 'a06067897', '643e42fcb', '217cd3838', '047ebc242', '9b6ce40cf', '3b2c972b3', '17a7bf25a', 'c9028d46b', '9e0473c91', '6b041d374', '783c50218', '19122191d', 'ce573744f', '1c4ea481e', 'fbd6e0a0b', '69831c049', 'b87e3036b', '54ba515ee', 'a09ba0b15', '90f77ec55', 'fb02ef0ea', '3b0cccd29', 'fe9ed417c', '589e8bd6f', '17b5a03fd', '80e16b49a', 'a3d5c2c2a', '1bd3a4e92', '611d81daa', '3d7780b1c', '113fd0206', '5e5894826', 'cb36204f9', 'bc4e3d600', 'c66e2deb0', 'c25851298', 'a7f6de992', '3f93a3272', 'c1b95c2ec', '6bda21fee', '4a64e56e7', '943743753', '20854f8bf', 'ac2e428a9', '5ee7de0be', '316423a21', '2e52b0c6a', '8bdf6bc7e', '8f523faf2', '4758340d5', '8411096ec', '9678b95b7', 'a185e35cc', 'fa980a778', 'c8d90f7d7', '080540c81', '32591c8b4', '5779da33c', 'bb425b41e', '01599af81', '1654ab770', 'd334a588e', 'b4353599c', '51b53eaec', '2cc0fbc52', '45ffef194', 'c15ac04ee', '5b055c8ea', 'd0466eb58', 'a80633823', 'a117a5409', '7ddac276f', '8c32df8b3', 'e5649663e', '6c16efbb8', '9118fd5ca', 'ca8d565f1', '16a5bb8d2', 'fd6347461', 'f5179fb9c', '97428b646', 'f684b0a96', 'e4b2caa9f', '2c2d9f267', '96eb14eaf', 'cb2cb460c', '86f843927', 'ecd16fc60', '801c6dc8e', 'f859a25b8', 'ae846f332', '2252c7403', 'fb9e07326', 'd196ca1fd', 'a8e562e8e', 'eb6bb7ce1', '5beff147e', '52b347cdc', '4600aadcf', '6fa0b9dab', '43d70cc4d', '408021ef8', 'e29d22b59']\n"
     ]
    },
    {
     "name": "stderr",
     "output_type": "stream",
     "text": [
      "C:\\Users\\madhs\\Anaconda3\\lib\\site-packages\\ipykernel_launcher.py:7: SettingWithCopyWarning: \n",
      "A value is trying to be set on a copy of a slice from a DataFrame\n",
      "\n",
      "See the caveats in the documentation: http://pandas.pydata.org/pandas-docs/stable/indexing.html#indexing-view-versus-copy\n",
      "  import sys\n"
     ]
    }
   ],
   "source": [
    "drop_cols=[]\n",
    "for cols in x_train.columns:\n",
    "    if x_train[cols].std()==0:\n",
    "        drop_cols.append(cols)\n",
    "print(\"Number of constant columns to be dropped: \", len(drop_cols))\n",
    "print(drop_cols)\n",
    "x_train.drop(drop_cols,axis=1, inplace = True)"
   ]
  },
  {
   "cell_type": "markdown",
   "metadata": {},
   "source": [
    "Check for constant columns on the test data"
   ]
  },
  {
   "cell_type": "code",
   "execution_count": 31,
   "metadata": {},
   "outputs": [
    {
     "name": "stdout",
     "output_type": "stream",
     "text": [
      "Number of constant columns to be dropped:  0\n",
      "[]\n"
     ]
    }
   ],
   "source": [
    "drop_cols_test=[]\n",
    "for cols in x_test.columns:\n",
    "    if x_test[cols].std()==0:\n",
    "        drop_cols_test.append(cols)\n",
    "print(\"Number of constant columns to be dropped: \", len(drop_cols_test))\n",
    "print(drop_cols_test)"
   ]
  },
  {
   "cell_type": "markdown",
   "metadata": {},
   "source": [
    "There are no constant columns from the test data. However, we still need to drop them as the shapes of the test and the train data need to be the same for modelling."
   ]
  },
  {
   "cell_type": "code",
   "execution_count": 32,
   "metadata": {},
   "outputs": [],
   "source": [
    "x_test.drop(drop_cols,axis=1, inplace = True)"
   ]
  },
  {
   "cell_type": "code",
   "execution_count": 33,
   "metadata": {},
   "outputs": [
    {
     "data": {
      "text/plain": [
       "(4459, 4735)"
      ]
     },
     "execution_count": 33,
     "metadata": {},
     "output_type": "execute_result"
    }
   ],
   "source": [
    "x_train.shape"
   ]
  },
  {
   "cell_type": "code",
   "execution_count": 34,
   "metadata": {},
   "outputs": [
    {
     "data": {
      "text/plain": [
       "(49342, 4735)"
      ]
     },
     "execution_count": 34,
     "metadata": {},
     "output_type": "execute_result"
    }
   ],
   "source": [
    "x_test.shape"
   ]
  },
  {
   "cell_type": "markdown",
   "metadata": {},
   "source": [
    "**DIMENSIONALITY REDUCTION**\n",
    "\n",
    "One of the major problems with this dataset is that it has too many predictors (almost 4900+). To go through each of these predictors and see which ones are significant for the model is going to be a tedious task. Instead, we can use one of the all-time favourite dimensionality reduction technique - Principle Component Analysis.\n",
    "Before we can use PCA, we need to **STANDARDISE** the data (Standardisation and Normalization are used inter-dependently. Standardisation is moulding the data to between -1 and +1 data points. Normalisation is normalising the data so that the data points lie along the mean.)"
   ]
  },
  {
   "cell_type": "code",
   "execution_count": 35,
   "metadata": {},
   "outputs": [],
   "source": [
    "from sklearn.preprocessing import StandardScaler\n",
    "sc = StandardScaler()"
   ]
  },
  {
   "cell_type": "code",
   "execution_count": 36,
   "metadata": {},
   "outputs": [],
   "source": [
    "x_train = sc.fit_transform(x_train)\n",
    "x_test = sc.transform(x_test)"
   ]
  },
  {
   "cell_type": "code",
   "execution_count": 37,
   "metadata": {},
   "outputs": [
    {
     "name": "stdout",
     "output_type": "stream",
     "text": [
      "[[-0.03764565 -0.02163947 -0.04688961 ..., -0.07234203 -0.05636327\n",
      "  -0.12585201]\n",
      " [-0.03764565 -0.02163947 -0.04688961 ..., -0.07234203 -0.05636327\n",
      "  -0.12585201]\n",
      " [-0.03764565 -0.02163947 -0.04688961 ..., -0.07234203 -0.05636327\n",
      "  -0.12585201]\n",
      " ..., \n",
      " [-0.03764565 -0.02163947 -0.04688961 ..., -0.07234203 -0.05636327\n",
      "  -0.12585201]\n",
      " [-0.03764565 -0.02163947 -0.04688961 ..., -0.07234203 -0.05636327\n",
      "  -0.12585201]\n",
      " [-0.03764565 -0.02163947 -0.04688961 ..., -0.07234203 -0.05636327\n",
      "  -0.12585201]]\n"
     ]
    }
   ],
   "source": [
    "print(x_train)"
   ]
  },
  {
   "cell_type": "markdown",
   "metadata": {},
   "source": [
    "Now that the data is scaled, we shall use PCA"
   ]
  },
  {
   "cell_type": "code",
   "execution_count": 38,
   "metadata": {},
   "outputs": [],
   "source": [
    "from sklearn.decomposition import PCA"
   ]
  },
  {
   "cell_type": "code",
   "execution_count": 39,
   "metadata": {},
   "outputs": [],
   "source": [
    "pca_x = PCA(0.95).fit(x_train)"
   ]
  },
  {
   "cell_type": "code",
   "execution_count": 40,
   "metadata": {},
   "outputs": [
    {
     "name": "stdout",
     "output_type": "stream",
     "text": [
      "1527 components explain 95% of the variation in data\n"
     ]
    }
   ],
   "source": [
    "print('%d components explain 95%% of the variation in data' % pca_x.n_components_)"
   ]
  },
  {
   "cell_type": "markdown",
   "metadata": {},
   "source": [
    "We can see that the first 1527 Principal Components attribute for about 95% variation in the data. We shall use these 1527 for our prediction"
   ]
  },
  {
   "cell_type": "code",
   "execution_count": 41,
   "metadata": {},
   "outputs": [],
   "source": [
    "pca = PCA(n_components=1527)\n",
    "#fit with 1527 components on train data\n",
    "pca.fit(x_train)\n",
    "#transform on train data\n",
    "x_train_pca = pca.transform(x_train)\n",
    "#transform on test data\n",
    "x_test_pca = pca.transform(x_test)"
   ]
  },
  {
   "cell_type": "markdown",
   "metadata": {},
   "source": [
    "**MODELLING AND PREDICTION** \n",
    "\n",
    "We shall use the following classifiers for our prediction\n",
    "\n",
    "-- Random Forest"
   ]
  },
  {
   "cell_type": "code",
   "execution_count": 42,
   "metadata": {},
   "outputs": [
    {
     "name": "stderr",
     "output_type": "stream",
     "text": [
      "C:\\Users\\madhs\\Anaconda3\\lib\\site-packages\\ipykernel_launcher.py:3: DataConversionWarning: A column-vector y was passed when a 1d array was expected. Please change the shape of y to (n_samples,), for example using ravel().\n",
      "  This is separate from the ipykernel package so we can avoid doing imports until\n"
     ]
    },
    {
     "data": {
      "text/plain": [
       "RandomForestRegressor(bootstrap=True, criterion='mse', max_depth=None,\n",
       "           max_features='auto', max_leaf_nodes=None,\n",
       "           min_impurity_decrease=0.0, min_impurity_split=None,\n",
       "           min_samples_leaf=1, min_samples_split=2,\n",
       "           min_weight_fraction_leaf=0.0, n_estimators=10, n_jobs=1,\n",
       "           oob_score=False, random_state=None, verbose=0, warm_start=False)"
      ]
     },
     "execution_count": 42,
     "metadata": {},
     "output_type": "execute_result"
    }
   ],
   "source": [
    "from sklearn.ensemble import RandomForestRegressor\n",
    "rf = RandomForestRegressor()\n",
    "rf.fit(x_train_pca, y_train)"
   ]
  },
  {
   "cell_type": "code",
   "execution_count": 43,
   "metadata": {},
   "outputs": [],
   "source": [
    "rf_pca_predict = rf.predict(x_test_pca)"
   ]
  },
  {
   "cell_type": "code",
   "execution_count": 44,
   "metadata": {},
   "outputs": [
    {
     "name": "stdout",
     "output_type": "stream",
     "text": [
      "[  987671.24696643   859629.10551558  2874079.69836335 ...,\n",
      "   698412.06748007  1433789.25760507  1123368.97003848]\n"
     ]
    }
   ],
   "source": [
    "rf_pca_predict = np.expm1(rf_pca_predict)\n",
    "print(rf_pca_predict)"
   ]
  },
  {
   "cell_type": "code",
   "execution_count": 45,
   "metadata": {},
   "outputs": [
    {
     "name": "stdout",
     "output_type": "stream",
     "text": [
      "49342\n"
     ]
    }
   ],
   "source": [
    "print(len(rf_pca_predict))"
   ]
  },
  {
   "cell_type": "code",
   "execution_count": 57,
   "metadata": {},
   "outputs": [
    {
     "name": "stdout",
     "output_type": "stream",
     "text": [
      "[  987671.24696643   859629.10551558  2874079.69836335 ...,\n",
      "   698412.06748007  1433789.25760507  1123368.97003848]\n"
     ]
    }
   ],
   "source": [
    "#Write to submission file\n",
    "submission = pd.read_csv('F:\\\\Imarticus-DSP\\\\Competitions\\\\Kaggle\\\\Santander Value Prediction\\\\sample_submission.csv')\n",
    "submission['target'] = rf_pca_predict\n",
    "print(rf_pca_predict)\n",
    "submission.to_csv('Submission_PCA.csv', index=False)"
   ]
  },
  {
   "cell_type": "code",
   "execution_count": 58,
   "metadata": {},
   "outputs": [
    {
     "name": "stdout",
     "output_type": "stream",
     "text": [
      "0        9.876712e+05\n",
      "1        8.596291e+05\n",
      "2        2.874080e+06\n",
      "3        2.768904e+06\n",
      "4        6.596658e+05\n",
      "5        1.212283e+06\n",
      "6        5.827410e+05\n",
      "7        3.125568e+05\n",
      "8        1.411145e+06\n",
      "9        7.244049e+06\n",
      "10       3.385364e+06\n",
      "11       2.820014e+06\n",
      "12       3.631331e+06\n",
      "13       4.791749e+05\n",
      "14       3.231255e+06\n",
      "15       7.183318e+05\n",
      "16       1.101245e+06\n",
      "17       3.182378e+06\n",
      "18       3.269445e+06\n",
      "19       1.777259e+06\n",
      "20       4.392599e+05\n",
      "21       2.338480e+06\n",
      "22       2.676595e+06\n",
      "23       6.925334e+05\n",
      "24       1.087844e+06\n",
      "25       1.283429e+06\n",
      "26       1.025038e+06\n",
      "27       1.541408e+06\n",
      "28       2.479984e+06\n",
      "29       1.687747e+06\n",
      "             ...     \n",
      "49312    5.035382e+05\n",
      "49313    1.639656e+06\n",
      "49314    2.722988e+06\n",
      "49315    1.121322e+06\n",
      "49316    9.400740e+05\n",
      "49317    1.859426e+06\n",
      "49318    6.715090e+05\n",
      "49319    2.900619e+05\n",
      "49320    4.924131e+05\n",
      "49321    3.080001e+06\n",
      "49322    1.094795e+06\n",
      "49323    2.918237e+05\n",
      "49324    3.974995e+05\n",
      "49325    3.738686e+06\n",
      "49326    1.883695e+06\n",
      "49327    1.122509e+06\n",
      "49328    1.487049e+06\n",
      "49329    9.370980e+05\n",
      "49330    9.456771e+05\n",
      "49331    9.142948e+05\n",
      "49332    1.931386e+06\n",
      "49333    6.199032e+05\n",
      "49334    1.643041e+06\n",
      "49335    2.110131e+06\n",
      "49336    3.296088e+06\n",
      "49337    2.260676e+06\n",
      "49338    3.975226e+06\n",
      "49339    6.984121e+05\n",
      "49340    1.433789e+06\n",
      "49341    1.123369e+06\n",
      "Name: target, Length: 49342, dtype: float64\n"
     ]
    }
   ],
   "source": [
    "print(submission['target'])"
   ]
  },
  {
   "cell_type": "markdown",
   "metadata": {},
   "source": [
    "**USING TSVD**\n",
    "\n",
    "TSVD, which stands for Truncated Single Vector Decomposition is a dimensonality reduction methodology. Unlike PCA, we do not need to standardise the data before we pass it through a TSVD.\n",
    "One of the main parameters is n_components which should be LESS THAN the number of dimensions.\n",
    "For the sake of this problem, I shall randomly pick n_components as 1500, and then write a code to choose those components which attribute for 95% of variation in the data.\n",
    "I am going to use the copies of the x_train, x_test, y_train datasets for TSVD."
   ]
  },
  {
   "cell_type": "code",
   "execution_count": 59,
   "metadata": {},
   "outputs": [],
   "source": [
    "from sklearn.decomposition import TruncatedSVD"
   ]
  },
  {
   "cell_type": "code",
   "execution_count": 60,
   "metadata": {},
   "outputs": [
    {
     "data": {
      "text/plain": [
       "TruncatedSVD(algorithm='randomized', n_components=1500, n_iter=20,\n",
       "       random_state=42, tol=0.0)"
      ]
     },
     "execution_count": 60,
     "metadata": {},
     "output_type": "execute_result"
    }
   ],
   "source": [
    "svd_x = TruncatedSVD(n_components=1500,n_iter=20, random_state=42)\n",
    "svd_x.fit(x_train_copy)"
   ]
  },
  {
   "cell_type": "code",
   "execution_count": 61,
   "metadata": {},
   "outputs": [
    {
     "name": "stdout",
     "output_type": "stream",
     "text": [
      "601\n"
     ]
    }
   ],
   "source": [
    "#code to select those components which attribute for 95% of variance in data\n",
    "count = 0\n",
    "for index, cumsum in enumerate(np.cumsum(svd_x.explained_variance_ratio_)):\n",
    "    if cumsum <=0.95:\n",
    "      count+=1  \n",
    "    else:\n",
    "        break\n",
    "print(count)"
   ]
  },
  {
   "cell_type": "markdown",
   "metadata": {},
   "source": [
    "From the above result we can see that the first 601 components attrribte for 95% of the variation in data. We shall use these 601 components"
   ]
  },
  {
   "cell_type": "code",
   "execution_count": 62,
   "metadata": {},
   "outputs": [],
   "source": [
    "svd = TruncatedSVD(n_components=601, random_state=42)\n",
    "#fit the TSVD on the train data\n",
    "svd.fit(x_train_copy)\n",
    "#transform on the x_train data\n",
    "x_train_svd = svd.transform(x_train_copy)\n",
    "#transform on the x_test data\n",
    "x_test_svd = svd.transform(x_test_copy)"
   ]
  },
  {
   "cell_type": "markdown",
   "metadata": {},
   "source": [
    "Use a Random Forest Regressor for modelling and prediction"
   ]
  },
  {
   "cell_type": "code",
   "execution_count": 63,
   "metadata": {},
   "outputs": [
    {
     "name": "stderr",
     "output_type": "stream",
     "text": [
      "C:\\Users\\madhs\\Anaconda3\\lib\\site-packages\\ipykernel_launcher.py:1: DataConversionWarning: A column-vector y was passed when a 1d array was expected. Please change the shape of y to (n_samples,), for example using ravel().\n",
      "  \"\"\"Entry point for launching an IPython kernel.\n"
     ]
    }
   ],
   "source": [
    "rf.fit(x_train_svd, y_train_copy)\n",
    "rf_tsvd_predict = rf.predict(x_test_svd)\n",
    "rf_tsvd_predict = np.expm1(rf_tsvd_predict)"
   ]
  },
  {
   "cell_type": "code",
   "execution_count": 64,
   "metadata": {},
   "outputs": [
    {
     "name": "stdout",
     "output_type": "stream",
     "text": [
      "[ 1808571.65855849  1091036.70094364  2589853.42927866 ...,\n",
      "   801217.34505758  1970206.46070135  3353619.30402269]\n"
     ]
    }
   ],
   "source": [
    "print(rf_tsvd_predict)"
   ]
  },
  {
   "cell_type": "code",
   "execution_count": 67,
   "metadata": {},
   "outputs": [
    {
     "name": "stdout",
     "output_type": "stream",
     "text": [
      "[ 1808571.65855849  1091036.70094364  2589853.42927866 ...,\n",
      "   801217.34505758  1970206.46070135  3353619.30402269]\n"
     ]
    }
   ],
   "source": [
    "submission_TSVD = pd.read_csv('F:\\\\Imarticus-DSP\\\\Competitions\\\\Kaggle\\\\Santander Value Prediction\\\\sample_submission.csv')\n",
    "submission_TSVD ['target'] = rf_tsvd_predict\n",
    "print(rf_tsvd_predict)\n",
    "submission_TSVD.to_csv('Submission_TSVD.csv', index=False)"
   ]
  },
  {
   "cell_type": "markdown",
   "metadata": {},
   "source": [
    "**CONCLUSION**\n",
    "\n",
    "The score that I received in Kaggle for PCA was 2.5 and for TSVD was around 1.7. It is not a great score, but my intention was not to get a  great score. My intention was tp try to see which amongt the 2 - PCA and TSVD - gives me better accuracy for sparse data.\n",
    "\n",
    "The accuracy can be greatly improved by fine tuning the random forest or by using other classfiers."
   ]
  }
 ],
 "metadata": {
  "kernelspec": {
   "display_name": "Python 3",
   "language": "python",
   "name": "python3"
  },
  "language_info": {
   "codemirror_mode": {
    "name": "ipython",
    "version": 3
   },
   "file_extension": ".py",
   "mimetype": "text/x-python",
   "name": "python",
   "nbconvert_exporter": "python",
   "pygments_lexer": "ipython3",
   "version": "3.6.3"
  }
 },
 "nbformat": 4,
 "nbformat_minor": 2
}
